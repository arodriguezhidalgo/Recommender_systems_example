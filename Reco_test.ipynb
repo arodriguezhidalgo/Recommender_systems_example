{
 "cells": [
  {
   "cell_type": "markdown",
   "metadata": {},
   "source": [
    "# Lab 2. Recommender systems\n",
    "* Music Technologies ([Tecnologías de la Música](https://aplicaciones.uc3m.es/cpa/generaFicha?est=214&&plan=441&asig=18510&idioma=1)). Bachellor Degree in Telecommunication Engineering. \n",
    "* Universidad Carlos III de Madrid\n",
    "\n",
    "* Author: Antonio Rodríguez Hidalgo ([CV](https://arodriguezhidalgo.github.io/CV/))\n",
    "\n",
    "In this lab session students will acquire some intuitions about how recommender systems work. They will be tasked to program part of the code for such goal, including the following approaches:\n",
    "* User-to-user recommenders.\n",
    "* Item-to-item recommenders.\n",
    "* Feature-based recommenders."
   ]
  },
  {
   "cell_type": "code",
   "execution_count": 19,
   "metadata": {
    "colab": {},
    "colab_type": "code",
    "id": "1OduBSVDFDZI"
   },
   "outputs": [],
   "source": [
    "import numpy as np # linear algebra\n",
    "import pandas as pd # data processing, CSV file I/O (e.g. pd.read_csv)\n",
    "import librosa, librosa.display\n",
    "import matplotlib.pyplot as plt\n",
    "from sklearn.model_selection import train_test_split\n",
    "import random, os, warnings\n",
    "# from sklearn.ensemble import RandomForestClassifier,GradientBoostingClassifier\n",
    "# from sklearn.multiclass import OneVsRestClassifier\n",
    "# from sklearn.svm import SVC\n",
    "# from sklearn.model_selection import RandomizedSearchCV\n",
    "# from sklearn.preprocessing import StandardScaler\n",
    "# from sklearn.metrics import confusion_matrix, classification_report\n",
    "import seaborn as sn\n",
    "from IPython.display import clear_output\n",
    "warnings.filterwarnings(\"ignore\")\n",
    "\n",
    "%matplotlib inline\n",
    "# Input data files are available in the \"../input/\" directory.\n",
    "# For example, running this (by clicking run or pressing Shift+Enter) will list all files under the input directory\n",
    "\n",
    "\n",
    "\n",
    "filen= open(os.path.join('./input/gtzan-genre-collection/genres/input.txt'),'r');\n",
    "filelist = [];\n",
    "y_text = [];\n",
    "y = [];\n",
    "\n",
    "filen= os.path.join('./input/gtzan-genre-collection/genres/input.txt');\n",
    "with open(filen, 'r') as f:\n",
    "    lines = f.read().split('\\n')\n",
    "    # print(lines)\n",
    "for line in lines[:-1]:\n",
    "    line = line.replace('/Users/sness/mirex2008', './input/gtzan-genre-collection').replace('.wav','.au').split('\t')\n",
    "    line_x = line[0];\n",
    "    line_y = line[1];\n",
    "    filelist.append(line_x);\n",
    "    y_text.append(line_y.replace('\\n',''));\n",
    "    \n",
    "\n",
    "# We do not need one-hot encoding. In that case, we can use an Identity matrix.\n",
    "y_labels = {}\n",
    "for i,j in enumerate(set(y_text)):\n",
    "    y_labels[j] = i;\n",
    "y_labels\n",
    "# We encode labels using a numeric dictionary\n",
    "for i in range(len(y_text)):\n",
    "    y.append(y_labels[y_text[i]])\n",
    "\n",
    "y = np.asarray(y);\n",
    "clear_output()\n"
   ]
  },
  {
   "cell_type": "markdown",
   "metadata": {
    "colab_type": "text",
    "id": "UhxdVVy1dtQr"
   },
   "source": [
    "# User generator\n",
    "We divide data into train and test.\n"
   ]
  },
  {
   "cell_type": "code",
   "execution_count": 20,
   "metadata": {
    "colab": {},
    "colab_type": "code",
    "id": "DUNw1-RzduCe"
   },
   "outputs": [],
   "source": [
    "rand_seed = 1492;\n",
    "\n",
    "# We compute all the features before we group them in vectors.\n",
    "[file_train, file_test, y_train, y_test] = train_test_split(filelist, y, test_size=0.15, random_state = rand_seed, stratify = y)\n",
    "# [file_train, file_val, y_train, y_val] = train_test_split(file_train, y_train, test_size=0.15, random_state = rand_seed, stratify = y_train)"
   ]
  },
  {
   "cell_type": "markdown",
   "metadata": {
    "colab_type": "text",
    "id": "dDeTvv1_Z8jx"
   },
   "source": [
    "We create two functions to generate some random users according to certain rules.\n",
    "* user_generator(): it receives the genre tastes of a future subject as well as the whole filelist. It selects a certain number of songs from each genre according to the setup of the desired user, and assigns a number of repetitions to each of the selected songs.\n",
    "* style_generator(): function that provides a set of configuration for different users. In particular, each subject profile receives a number of audio files from each genre. In addition to that pre-set value, another random (integer) number is added, so every new subject is different to the others, even though it is clearly biased towards one or more subjects.\n"
   ]
  },
  {
   "cell_type": "code",
   "execution_count": 23,
   "metadata": {
    "colab": {},
    "colab_type": "code",
    "id": "4uJiUZ2bp0S6"
   },
   "outputs": [],
   "source": [
    "def user_generator(user_file, files):\n",
    "    user_aux = {};\n",
    "    for i in user_file.keys():\n",
    "        user_aux[i] = int(np.ceil(user_file[i]*n_files/100));\n",
    "\n",
    "    user_counter = {'pop':0,'disco':0,'reggae':0,'country':0,'blues':0,'metal':0,'hiphop':0,'jazz':0,'classical':0,'rock':0}\n",
    "    taste_list = [];\n",
    "    for i in files:\n",
    "        song_genre = i.split('/')[4];\n",
    "        if user_counter[song_genre] < user_aux[song_genre]:\n",
    "            np.random.seed(user_counter[song_genre])\n",
    "            taste_list.append((i,\n",
    "                               int(np.random.randint(10, 300, 1)[0]*np.sqrt(user_aux[song_genre]))\n",
    "                               ))\n",
    "            user_counter[song_genre]+=1;\n",
    "\n",
    "    return taste_list\n",
    "\n",
    "def style_generator(user_kind):\n",
    "    if user_kind == 1:\n",
    "        user = {'pop':1+np.random.randint(n_random),'disco':1+np.random.randint(n_random),'reggae':1+np.random.randint(n_random),\n",
    "                    'country':1+np.random.randint(n_random),'blues':9+np.random.randint(n_random),'metal':1+np.random.randint(n_random),\n",
    "                    'hiphop':1+np.random.randint(n_random),'jazz':18+np.random.randint(n_random),'classical':66+np.random.randint(n_random),\n",
    "                    'rock':1+np.random.randint(n_random)}\n",
    "\n",
    "    elif user_kind == 2:\n",
    "        user = {'pop':0+np.random.randint(n_random),'disco':0+np.random.randint(n_random),'reggae':0+np.random.randint(n_random),\n",
    "                    'country':0+np.random.randint(n_random),'blues':10+np.random.randint(n_random),'metal':40+np.random.randint(n_random),\n",
    "                    'hiphop':10+np.random.randint(n_random),'jazz':10+np.random.randint(n_random),'classical':0+np.random.randint(n_random),\n",
    "                    'rock':28+np.random.randint(n_random)}\n",
    "\n",
    "    elif user_kind == 3:\n",
    "        user = {'pop':40+np.random.randint(n_random),'disco':30+np.random.randint(n_random),'reggae':0+np.random.randint(n_random),\n",
    "                    'country':0+np.random.randint(n_random),'blues':0+np.random.randint(n_random),'metal':0+np.random.randint(n_random),\n",
    "                    'hiphop':0+np.random.randint(n_random),'jazz':0+np.random.randint(n_random),'classical':0+np.random.randint(n_random),\n",
    "                    'rock':30+np.random.randint(n_random)}\n",
    "\n",
    "    elif user_kind == 4:\n",
    "        user = {'pop':5+np.random.randint(n_random),'disco':0+np.random.randint(n_random),'reggae':60+np.random.randint(n_random),\n",
    "                    'country':0+np.random.randint(n_random),'blues':0+np.random.randint(n_random),'metal':0+np.random.randint(n_random),\n",
    "                    'hiphop':30+np.random.randint(n_random),'jazz':10+np.random.randint(n_random),'classical':0+np.random.randint(n_random),\n",
    "                    'rock':5+np.random.randint(n_random)}\n",
    "\n",
    "    elif user_kind == 5:\n",
    "        user = {'pop':5+np.random.randint(n_random),'disco':12+np.random.randint(n_random),'reggae':5+np.random.randint(n_random),\n",
    "                    'country':0+np.random.randint(n_random),'blues':30+np.random.randint(n_random),'metal':0+np.random.randint(n_random),\n",
    "                    'hiphop':30+np.random.randint(n_random),'jazz':10+np.random.randint(n_random),'classical':3+np.random.randint(n_random),\n",
    "                    'rock':50+np.random.randint(n_random)}\n",
    "\n",
    "    elif user_kind == 6:\n",
    "        user = {'pop':5+np.random.randint(n_random),'disco':12+np.random.randint(n_random),'reggae':5+np.random.randint(n_random),\n",
    "                    'country':60+np.random.randint(n_random),'blues':10+np.random.randint(n_random),'metal':0+np.random.randint(n_random),\n",
    "                    'hiphop':15+np.random.randint(n_random),'jazz':10+np.random.randint(n_random),'classical':3+np.random.randint(n_random),\n",
    "                    'rock':5+np.random.randint(n_random)}\n",
    "\n",
    "    elif user_kind == 7:\n",
    "        user = {'pop':5+np.random.randint(n_random),'disco':12+np.random.randint(n_random),'reggae':5+np.random.randint(n_random),\n",
    "                    'country':5+np.random.randint(n_random),'blues':60+np.random.randint(n_random),'metal':5+np.random.randint(n_random),\n",
    "                    'hiphop':0+np.random.randint(n_random),'jazz':10+np.random.randint(n_random),'classical':3+np.random.randint(n_random),\n",
    "                    'rock':15+np.random.randint(n_random)}\n",
    "\n",
    "    elif user_kind == 8:\n",
    "        user = {'pop':5+np.random.randint(n_random),'disco':12+np.random.randint(n_random),'reggae':5+np.random.randint(n_random),\n",
    "                    'country':0+np.random.randint(n_random),'blues':10+np.random.randint(n_random),'metal':0+np.random.randint(n_random),\n",
    "                    'hiphop':5+np.random.randint(n_random),'jazz':60+np.random.randint(n_random),'classical':3+np.random.randint(n_random),\n",
    "                    'rock':5+np.random.randint(n_random)}\n",
    "    \n",
    "    return user"
   ]
  },
  {
   "cell_type": "markdown",
   "metadata": {
    "colab_type": "text",
    "id": "t3-66Coievoh"
   },
   "source": [
    "We generate a set of subjects and their corresponding interaction matrix.\n",
    "The latter represents in the Y-axis the index of a subject, whereas the X-axis represents a certain song. The C-axis value (or Z) represents how many times a certain subject A played the song B."
   ]
  },
  {
   "cell_type": "code",
   "execution_count": 24,
   "metadata": {
    "colab": {},
    "colab_type": "code",
    "id": "P3SFJTfuXbyu"
   },
   "outputs": [],
   "source": [
    "user_list = {}\n",
    "n_subjects = 100;\n",
    "n_random = 20;\n",
    "\n",
    "for user_id in range(n_subjects):\n",
    "    file_train_random = random.sample(file_train, len(file_train));\n",
    "    n_files = np.random.randint(50,100+1,1)[0];\n",
    "\n",
    "    user = style_generator(random.randint(1,8))\n",
    "    user_file_list = user_generator(user, file_train_random)\n",
    "    user_list[str(user_id)] = {'user_file_list':user_file_list, 'user':user};"
   ]
  },
  {
   "cell_type": "markdown",
   "metadata": {
    "colab_type": "text",
    "id": "9DUMTtPutOgz"
   },
   "source": [
    "## Interaction matrices\n"
   ]
  },
  {
   "cell_type": "code",
   "execution_count": 6,
   "metadata": {
    "colab": {
     "base_uri": "https://localhost:8080/",
     "height": 197
    },
    "colab_type": "code",
    "id": "lnzEpGROiw-2",
    "outputId": "73931203-271d-44a7-bf3f-9dc7b350431a"
   },
   "outputs": [
    {
     "data": {
      "image/png": "[encoded data removed]",
      "text/plain": [
       "<Figure size 1440x720 with 1 Axes>"
      ]
     },
     "metadata": {
      "tags": []
     },
     "output_type": "display_data"
    }
   ],
   "source": [
    "# We create an emtpy interaction matrix\n",
    "interaction_matrix = pd.DataFrame([], index = user_list.keys(), columns = file_train)\n",
    "interaction_matrix.fillna(0, inplace=True)\n",
    "\n",
    "# # We fill the content of the matrix using user data with the structure generated above.\n",
    "for user_id in user_list.keys():\n",
    "    for file_id in user_list[user_id]['user_file_list']:\n",
    "        interaction_matrix.loc[user_id][file_id[0]]+=file_id[1]\n",
    "plt.figure(figsize=(20,10))\n",
    "plt.imshow(interaction_matrix);\n",
    "plt.xlabel('Files');\n",
    "plt.ylabel('Users');"
   ]
  },
  {
   "cell_type": "markdown",
   "metadata": {
    "colab_type": "text",
    "id": "0eEwjLDuzRdO"
   },
   "source": [
    "# Student user\n",
    "This time we generate the user that we will provide to a student, for example. The procedure is similar to the one described before: we set up a certain number of music files to each genre, which are randomly selected for the subject and produce a representation of the profile of the subject.\n",
    "\n",
    "The pattern to create the profile is stored in the variable 'user', whereas its playlists are stored in 'user_vector'."
   ]
  },
  {
   "cell_type": "code",
   "execution_count": 0,
   "metadata": {
    "colab": {},
    "colab_type": "code",
    "id": "CE9yMBpA32QW"
   },
   "outputs": [],
   "source": [
    "np.random.seed(1991)\n",
    "user = {'pop':40+np.random.randint(n_random),'disco':30+np.random.randint(n_random),'reggae':0+np.random.randint(n_random),\n",
    "            'country':0+np.random.randint(n_random),'blues':0+np.random.randint(n_random),'metal':0+np.random.randint(n_random),\n",
    "            'hiphop':0+np.random.randint(n_random),'jazz':0+np.random.randint(n_random),'classical':0+np.random.randint(n_random),\n",
    "            'rock':30+np.random.randint(n_random)}\n",
    "user_file_list = user_generator(user, file_train_random)\n",
    "\n",
    "user_id = 'user'\n",
    "\n",
    "user_vector = pd.DataFrame([], index = [user_id], columns = file_train)\n",
    "user_vector.fillna(0, inplace=True)\n",
    "\n",
    "for file_id in user_file_list:\n",
    "    user_vector.loc[user_id][file_id[0]]+=file_id[1];"
   ]
  },
  {
   "cell_type": "markdown",
   "metadata": {
    "colab_type": "text",
    "id": "VNg2tMLlil5N"
   },
   "source": [
    "# User-to-user recommender\n",
    "We now design a function that receives as an input an interaction matrix and the profile of a certain user. The idea is that we will use user-to-user recommendation, which means that a model will be fit using the interaction matrix as its input. Then, the profile of a student will be used as input, and its output will determine what users from the interaction matrix are more similar.\n",
    "\n",
    "Then, we determine their top songs and their weight according to their repetition number. We finally recommend those songs that have a big score after adding the weights of the top 5 subjects of the interaction matrix."
   ]
  },
  {
   "cell_type": "code",
   "execution_count": 8,
   "metadata": {
    "colab": {
     "base_uri": "https://localhost:8080/",
     "height": 89
    },
    "colab_type": "code",
    "id": "9s406-rsd3Qb",
    "outputId": "7fe94a61-8ff2-47fb-89c5-b354947c7b12"
   },
   "outputs": [
    {
     "name": "stdout",
     "output_type": "stream",
     "text": [
      "*************************************\n",
      "Top-5 neighbors:\n",
      "------------------------------------\n",
      "[99 53 88 20 26]\n"
     ]
    }
   ],
   "source": [
    "from sklearn.neighbors import NearestNeighbors\n",
    "def recommender_user2user(interaction_matrix, user_data):\n",
    "    train_data = interaction_matrix;\n",
    "\n",
    "    clf = NearestNeighbors();\n",
    "    clf.fit(train_data)\n",
    "    \n",
    "    out = clf.kneighbors(user_data)\n",
    "    print('*************************************')\n",
    "    print('Top-5 neighbors:')\n",
    "    print('------------------------------------')\n",
    "    print('{}'.format(out[1][0]))\n",
    "    \n",
    "    '''\n",
    "    We select the top neighbors and see which files they recommend. In order to do so, we normalize each of the user rows in the range [0,1],\n",
    "    so in order to choose which song is the most popular we only need to use the sum operator in axis=0.\n",
    "    '''\n",
    "    neighbors_data = train_data.loc[[str(i) for i in(out[1][0])]];\n",
    "    neighbors_data = neighbors_data/np.expand_dims(np.sum(neighbors_data, axis=1),axis=1)*np.ones((1,neighbors_data.shape[1]))\n",
    "    recommendation_vector = np.sum(neighbors_data,axis=0);\n",
    "    recommendation_vector.sort_values(inplace=True, ascending = False)\n",
    "    return recommendation_vector\n",
    "\n",
    "\n",
    "recommendation_vector = recommender_user2user(interaction_matrix, user_vector)"
   ]
  },
  {
   "cell_type": "markdown",
   "metadata": {
    "colab_type": "text",
    "id": "ravV6EwLpZj3"
   },
   "source": [
    "It is important to know that some of the subjects that will be recommended might be already liked in the profile that we provide for students. Consequently, we must distinguish between known and new unknown songs."
   ]
  },
  {
   "cell_type": "code",
   "execution_count": 11,
   "metadata": {
    "colab": {
     "base_uri": "https://localhost:8080/",
     "height": 539
    },
    "colab_type": "code",
    "id": "hFNgLDf0d3Su",
    "outputId": "fa46af0d-f016-49de-f40b-b7823395367a"
   },
   "outputs": [
    {
     "name": "stdout",
     "output_type": "stream",
     "text": [
      "User preferences\n",
      "{'pop': 40, 'disco': 44, 'reggae': 19, 'country': 13, 'blues': 7, 'metal': 7, 'hiphop': 18, 'jazz': 5, 'classical': 11, 'rock': 32}\n",
      "\n",
      "*************************************\n",
      "TOP-5 (SONGS YOU ALREADY KNOW):\n",
      "------------------------------------\n",
      "Song: rock.00061.wav. Score: 0.0559\n",
      "\n",
      "Song: pop.00084.wav. Score: 0.0478\n",
      "\n",
      "Song: pop.00030.wav. Score: 0.0439\n",
      "\n",
      "Song: pop.00047.wav. Score: 0.0397\n",
      "\n",
      "Song: rock.00050.wav. Score: 0.0381\n",
      "\n",
      "*************************************\n",
      "TOP-5 (SONGS YOU SHOULD KNOW):\n",
      "------------------------------------\n",
      "Song: pop.00038.wav. Score: 0.0623\n",
      "\n",
      "Song: pop.00019.wav. Score: 0.0490\n",
      "\n",
      "Song: rock.00054.wav. Score: 0.0446\n",
      "\n",
      "Song: rock.00060.wav. Score: 0.0419\n",
      "\n",
      "Song: disco.00020.wav. Score: 0.0415\n",
      "\n"
     ]
    }
   ],
   "source": [
    "# Songs that the user already has in his repo list.\n",
    "known_songs = ((recommendation_vector > 0)*(user_vector > 0)*recommendation_vector).loc[user_id].sort_values(ascending = False)\n",
    "\n",
    "# Songs that the user already has in his repo list.\n",
    "new_songs = ((recommendation_vector > 0)*(user_vector == 0)*recommendation_vector).loc[user_id].sort_values(ascending = False)\n",
    "\n",
    "print('User preferences')\n",
    "print(user)\n",
    "\n",
    "print()\n",
    "print('*************************************')\n",
    "print('TOP-5 (SONGS YOU ALREADY KNOW):')\n",
    "print('------------------------------------')\n",
    "for i,j in known_songs[0:5].items():\n",
    "    print('Song: {}. Score: {:.4f}\\n'.format(i.split('/')[-1],j))\n",
    "\n",
    "print('*************************************')\n",
    "print('TOP-5 (SONGS YOU SHOULD KNOW):')\n",
    "print('------------------------------------')\n",
    "for i,j in new_songs[0:5].items():\n",
    "    print('Song: {}. Score: {:.4f}\\n'.format(i.split('/')[-1],j))"
   ]
  },
  {
   "cell_type": "markdown",
   "metadata": {
    "colab_type": "text",
    "id": "J1vMolw7G3A2"
   },
   "source": [
    "# Recommender item-2-item\n",
    "Our next proposal follows the item-to-item approach. The procedure is similar to the user-2-user one, although this time samples represent song names and subjects are the features under analysis. \n",
    "\n",
    "We get the user-vector for the favourite song of our profile, which provides a weight for each of the subjects from the interaction matrix for that specific song. KNN looks for the closest user-vectors into the matrix, and provides a score for each of them. We return the closest ones, which represent potential recommended songs."
   ]
  },
  {
   "cell_type": "code",
   "execution_count": 30,
   "metadata": {
    "colab": {
     "base_uri": "https://localhost:8080/",
     "height": 215
    },
    "colab_type": "code",
    "id": "CpywN07ezIcc",
    "outputId": "d932c793-1e56-4b6c-dfbe-1e05345a679f"
   },
   "outputs": [
    {
     "name": "stdout",
     "output_type": "stream",
     "text": [
      "*************************************\n",
      "Top-N neighbors:\n",
      "------------------------------------\n",
      "[251 608 331 279 403 666 509 307 126 780 663 191 772  19 497  50 842 468\n",
      " 610 232]\n",
      "(array([[   0.        , 3139.56748614, 3343.7598598 , 3438.42725676,\n",
      "        3442.0820734 , 3470.1734827 , 3521.70342306, 3523.22934252,\n",
      "        3545.009732  , 3557.96458667, 3558.12731644, 3561.93528858,\n",
      "        3578.56409751, 3580.48139222, 3597.24213808, 3607.87776955,\n",
      "        3615.480466  , 3635.24799704, 3641.91556739, 3669.81661667]]), array([[251, 608, 331, 279, 403, 666, 509, 307, 126, 780, 663, 191, 772,\n",
      "         19, 497,  50, 842, 468, 610, 232]]))\n"
     ]
    }
   ],
   "source": [
    "from sklearn.neighbors import NearestNeighbors\n",
    "def recommender_item2item(train_data, user_data):\n",
    "\n",
    "    # We get the favourite song of the user\n",
    "    favourite_song = user_data.loc[user_id].argmax()\n",
    "    item_vector = train_data[favourite_song]\n",
    "    \n",
    "    clf = NearestNeighbors(20);\n",
    "    clf.fit(train_data.T)\n",
    "\n",
    "    # We get the top-5 closest items.\n",
    "    out = clf.kneighbors(np.expand_dims(item_vector,axis=0))\n",
    "    \n",
    "    print('*************************************')\n",
    "    print('Top-N neighbors:')\n",
    "    print('------------------------------------')\n",
    "    print('{}'.format(out[1][0]))\n",
    "    print(out)\n",
    "\n",
    "    '''\n",
    "    We select the top neighbors and see which files they recommend. In order to do so, we normalize each of the user rows in the range [0,1],\n",
    "    so in order to choose which song is the most popular we only need to use the sum operator in axis=0.\n",
    "    '''\n",
    "    neighbors_data = [(train_data.columns[j],i) for i,j in zip(out[0][0],out[1][0])]\n",
    "    # neighbors_data = train_data.loc[[str(i) for i in(out[1][0])]];\n",
    "    # neighbors_data = neighbors_data/np.expand_dims(np.sum(neighbors_data, axis=1),axis=1)*np.ones((1,neighbors_data.shape[1]))\n",
    "    # recommendation_vector = np.sum(neighbors_data,axis=0);\n",
    "    # recommendation_vector.sort_values(inplace=True, ascending = False)\n",
    "    #neighbors_data = neighbors_data/\n",
    "    return neighbors_data\n",
    "\n",
    "\n",
    "recommendations = recommender_item2item(interaction_matrix, user_vector)\n"
   ]
  },
  {
   "cell_type": "markdown",
   "metadata": {
    "colab_type": "text",
    "id": "OhFoMZmcJcpN"
   },
   "source": [
    "We determine which songs are actually new for the profile we are providing."
   ]
  },
  {
   "cell_type": "code",
   "execution_count": 39,
   "metadata": {
    "colab": {
     "base_uri": "https://localhost:8080/",
     "height": 449
    },
    "colab_type": "code",
    "id": "2afe2MhizIoE",
    "outputId": "3aa09544-92cb-4d9e-d9f0-a039d619bf3b"
   },
   "outputs": [
    {
     "name": "stdout",
     "output_type": "stream",
     "text": [
      "User preferences\n",
      "{'pop': 40, 'disco': 44, 'reggae': 19, 'country': 13, 'blues': 7, 'metal': 7, 'hiphop': 18, 'jazz': 5, 'classical': 11, 'rock': 32}\n",
      "\n",
      "*************************************\n",
      "TOP-5 (SONGS YOU ALREADY KNOW):\n",
      "------------------------------------\n",
      "Song: disco.00033.wav. Score (distance): 3343.76\n",
      "Song: pop.00046.wav. Score (distance): 3442.08\n",
      "Song: pop.00056.wav. Score (distance): 3470.17\n",
      "Song: hiphop.00042.wav. Score (distance): 3521.70\n",
      "Song: reggae.00082.wav. Score (distance): 3523.23\n",
      "\n",
      "*************************************\n",
      "TOP-5 (SONGS YOU SHOULD KNOW):\n",
      "------------------------------------\n",
      "Song: disco.00038.wav. Score (distance): 3139.57\n",
      "Song: rock.00083.wav. Score (distance): 3438.43\n",
      "Song: disco.00080.wav. Score (distance): 3558.13\n",
      "Song: country.00097.wav. Score (distance): 3561.94\n",
      "Song: disco.00082.wav. Score (distance): 3578.56\n",
      "Song: disco.00067.wav. Score (distance): 3580.48\n",
      "Song: rock.00072.wav. Score (distance): 3607.88\n",
      "Song: pop.00014.wav. Score (distance): 3615.48\n",
      "Song: hiphop.00068.wav. Score (distance): 3669.82\n"
     ]
    }
   ],
   "source": [
    "known_songs = [];\n",
    "new_songs = [];\n",
    "for i,j in recommendations[1:]:\n",
    "    if user_vector.loc[user_id][i] > 0:\n",
    "        known_songs.append((i,j));\n",
    "    else:\n",
    "        new_songs.append((i,j));\n",
    "  \n",
    "print('User preferences')\n",
    "print(user)\n",
    "\n",
    "print()\n",
    "print('*************************************')\n",
    "print('TOP-5 (SONGS YOU ALREADY KNOW):')\n",
    "print('------------------------------------')\n",
    "for i,j in known_songs[0:5]:\n",
    "    print('Song: {}. Score (distance): {:.2f}'.format(i.split('/')[-1],j))\n",
    "\n",
    "print()\n",
    "print('*************************************')\n",
    "print('TOP-5 (SONGS YOU SHOULD KNOW):')\n",
    "print('------------------------------------')\n",
    "for i,j in new_songs[0:10]:\n",
    "    print('Song: {}. Score (distance): {:.2f}'.format(i.split('/')[-1],j))"
   ]
  },
  {
   "cell_type": "markdown",
   "metadata": {
    "colab_type": "text",
    "id": "ZlBtIHtWvF-x"
   },
   "source": [
    "# Feature-based approach\n",
    "This approach is similar to genre-based music classification. We will train a set of models that using some auditory features from the audio files will produce a score for a new unknown music file.\n",
    "\n",
    "The input X are auditory features such as the spectrogram, whereas the output Y will be a score from [1,5] representing the number of stars that the user provides to such song. This scores will be computed using the number of repetitions for each of the elements of the profiles.\n",
    "\n",
    "Functions below are in charge of reading audio files, compute features from them as well as computing their averaged values.\n"
   ]
  },
  {
   "cell_type": "code",
   "execution_count": 0,
   "metadata": {
    "colab": {},
    "colab_type": "code",
    "id": "dfCobLW2Edsl"
   },
   "outputs": [],
   "source": [
    "def compute_features(x, feature_extraction):\n",
    "    feat_vector = {};\n",
    "    features = feature_extraction['features'];\n",
    "    verbose = feature_extraction['verbose'];\n",
    "    frame_length = feature_extraction['frame_length'];\n",
    "    frame_hop = feature_extraction['frame_hop'];\n",
    "    # We modify the length of the audio files so their maximum length is exactly of 30 seconds.\n",
    "    x = x[0:29*sr];\n",
    "\n",
    "    # We compute the spectrogram\n",
    "    X = librosa.stft(x, n_fft=frame_length, hop_length = frame_hop, win_length = frame_length);\n",
    "\n",
    "    if 'spectrogram' in features:\n",
    "        if verbose == True:\n",
    "            plt.figure(figsize = (20,5))\n",
    "            librosa.display.specshow(librosa.amplitude_to_db(X), sr = sr, hop_length = frame_hop, x_axis = 'time',y_axis = 'linear');\n",
    "            plt.title('Spectrogram #{0}'.format(i));\n",
    "            plt.xlabel('Time (s)');\n",
    "        \n",
    "        if 'scaler_spectrogram' in feature_extraction.keys():\n",
    "            scaler = feature_extraction['scaler_spectrogram'];\n",
    "            X_spec = scaler.transform(np.abs(X).T);\n",
    "        else:\n",
    "            print('Creating new scaler', X.shape)\n",
    "            scaler = StandardScaler();\n",
    "            X_spec = scaler.fit_transform(np.abs(X).T);\n",
    "            feature_extraction['scaler_spectrogram'] = scaler;\n",
    "        feat_vector['spectrogram'] =  rectangle_feature(X_spec);\n",
    "\n",
    "\n",
    "    if 'f_centroid' in features:\n",
    "        spectral_centroid_X = librosa.feature.spectral_centroid(S = np.abs(X**2), sr = sr,\n",
    "                                                                #n_fft = frame_length, hop_length = frame_hop, win_length = frame_length\n",
    "                                                                );        \n",
    "        # We normalize the spectral centroid using the maximum frequency available in the spectrogram.\n",
    "        feat_vector['f_centroid'] = spectral_centroid_X/(sr/2);\n",
    "\n",
    "    if 'mel' in features:    \n",
    "        mel_X = librosa.feature.melspectrogram(S = np.abs(X**2), n_mels = 64, sr = sr);       \n",
    "        mel_X = np.log(mel_X+1e-5)\n",
    "        if 'scaler_mel' in feature_extraction.keys():\n",
    "            scaler = feature_extraction['scaler_mel'];\n",
    "            mel_X = scaler.transform(mel_X.T);\n",
    "        else:\n",
    "            print('Creating new scaler', mel_X.shape)\n",
    "            scaler = StandardScaler();\n",
    "            mel_X = scaler.fit_transform(mel_X.T);\n",
    "            feature_extraction['scaler_mel'] = scaler;\n",
    "        feat_vector['mel'] =  rectangle_feature(mel_X);\n",
    "\n",
    "    if 'chroma_stft' in features:\n",
    "        chroma_X = librosa.feature.chroma_stft(S = np.abs(X), sr= sr);   \n",
    "\n",
    "        if 'scaler_chroma_stft' in feature_extraction.keys():\n",
    "            scaler = feature_extraction['scaler_chroma_stft'];\n",
    "            chroma_X = scaler.transform(chroma_X.T);\n",
    "        else:\n",
    "            print('Creating new scaler', chroma_X.shape)\n",
    "            scaler = StandardScaler();\n",
    "            chroma_X = scaler.fit_transform(chroma_X.T);\n",
    "            feature_extraction['scaler_chroma_stft'] = scaler;\n",
    "        feat_vector['chroma_stft'] = rectangle_feature(chroma_X);\n",
    "\n",
    "\n",
    "\n",
    "    if 'mfcc' in features:\n",
    "        mfcc_X = librosa.feature.mfcc(x, sr = sr, n_mfcc = 13, dct_type = 2, n_fft = frame_length, hop_length = frame_hop);        \n",
    "        if 'scaler_mfcc' in feature_extraction.keys():\n",
    "            scaler = feature_extraction['scaler_mfcc'];\n",
    "            mfcc_X = scaler.transform(mfcc_X.T);\n",
    "        else:\n",
    "            print('Creating new scaler', mfcc_X.shape)\n",
    "            scaler = StandardScaler();\n",
    "            mfcc_X = scaler.fit_transform(mfcc_X.T);\n",
    "            feature_extraction['scaler_mfcc'] = scaler;\n",
    "        feat_vector['mfcc'] = rectangle_feature(mfcc_X);\n",
    "    \n",
    "\n",
    "    if 'mfcc_delta' in features:\n",
    "        mfcc_X = librosa.feature.mfcc(x, sr = sr, n_mfcc = 13, dct_type = 2, n_fft = frame_length, hop_length = frame_hop);\n",
    "        mfcc_delta = librosa.feature.delta(mfcc_X)\n",
    "        mfcc_delta2 = librosa.feature.delta(mfcc_X, order=2)\n",
    "        out = np.vstack((mfcc_X, mfcc_delta, mfcc_delta2));\n",
    "\n",
    "        if 'scaler_mfcc_delta' in feature_extraction.keys():\n",
    "            scaler = feature_extraction['scaler_mfcc_delta'];\n",
    "            out = scaler.transform(out.T);\n",
    "        else:\n",
    "            print('Creating new scaler', out.shape)\n",
    "            scaler = StandardScaler();\n",
    "            out = scaler.fit_transform(out.T);\n",
    "            feature_extraction['scaler_mfcc_delta'] = scaler;\n",
    "\n",
    "        feat_vector['mfcc_delta'] = rectangle_feature(out);\n",
    "\n",
    "    if 'spectral_bw' in features:\n",
    "        spectral_bw_X = librosa.feature.spectral_bandwidth(S = np.abs(X), sr = sr);\n",
    "\n",
    "        # We normalize the spectral bandwidth using the maximum frequency available in the spectrogram.\n",
    "        feat_vector['spectral_bw'] = spectral_bw_X/(sr/2);\n",
    "\n",
    "    if 'pitch' in features:\n",
    "        pitches, magnitudes = librosa.piptrack(S = np.abs(X), sr = sr);\n",
    "        pitch_vector = [];\n",
    "        for t in range(pitches.shape[1]):\n",
    "            pitch_vector.append(pitches[magnitudes[:,t].argmax(),t])\n",
    "        feat_vector['pitch'] = pitch_vector;\n",
    "\n",
    "    if 'f_flatness' in features: \n",
    "        spectral_flat_X = librosa.feature.spectral_flatness(S = np.abs(X), n_fft = frame_length);\n",
    "        feat_vector['f_flatness'] = spectral_flat_X;\n",
    "\n",
    "\n",
    "    if 'f_rolloff' in features:\n",
    "        spectral_rolloff_X = librosa.feature.spectral_rolloff(S = np.abs(X), sr = sr);\n",
    "        feat_vector['f_rolloff'] = spectral_rolloff_X/(sr/2);\n",
    "\n",
    "    \n",
    "    if 'tempo' in features: \n",
    "        tempo = librosa.beat.tempo(x, sr=sr);        \n",
    "        tempo /= 60.0; #  bits per second\n",
    "        out = np.zeros(shape=(3,));\n",
    "        out[0] = tempo;\n",
    "        out[1] = tempo/sr;\n",
    "        out[2] = 1/tempo;\n",
    "        feat_vector['tempo'] = out;\n",
    "\n",
    "    if 'spectral_contrast' in features:\n",
    "        feat = librosa.feature.spectral_contrast(S =  np.abs(X), sr = sr);\n",
    "\n",
    "        if 'scaler_spectral_contrast' in feature_extraction.keys():\n",
    "            scaler = feature_extraction['scaler_spectral_contrast'];\n",
    "            feat = scaler.transform(feat.T);\n",
    "        else:\n",
    "            print('Creating new scaler', feat.shape)\n",
    "            scaler = StandardScaler();\n",
    "            feat = scaler.fit_transform(feat.T);\n",
    "            feature_extraction['scaler_spectral_contrast'] = scaler;\n",
    "        feat_vector['spectral_contrast'] = rectangle_feature(feat);\n",
    "\n",
    "    return feat_vector\n",
    "\n",
    "\n",
    "def concatenate_features(x_feat_structure, feature_extraction):\n",
    "    '''\n",
    "    This function is in charge of concatenating a set of features that are pre-\n",
    "    computed and listed in 'x_feat_structure' with their corresponding names.\n",
    "    It returns a single column that contains all the features.\n",
    "    '''\n",
    "    x_feat_matrix = [];\n",
    "    for i in feature_extraction['features']:#x_feat_structure.keys():\n",
    "        x_feat_matrix.append(x_feat_structure[i]);\n",
    "    return np.hstack(x_feat_matrix)\n",
    "\n",
    "\n",
    "def load_signal(filename, feature_extraction):\n",
    "    '''\n",
    "    Function that reads an audio file 'filename' and extracts the features \n",
    "    according to the dictionary 'feature_extraction'. It returns the concatenated \n",
    "    features, producing a single vector for each audio file.\n",
    "    '''\n",
    "    audio = librosa.load(filename)[0];\n",
    "    feat_dict = compute_features(audio, feature_extraction);\n",
    "    return feat_dict\n",
    "\n",
    "def rectangle_feature(feature):\n",
    "    '''\n",
    "    Function designed to compute the average and the std from the input feature.\n",
    "    '''\n",
    "    feature_out = [];\n",
    "    feature_out.append(np.mean(feature, axis = 0));\n",
    "    feature_out.append(np.std(feature, axis = 0));\n",
    "    return np.concatenate(feature_out,axis=0)\n"
   ]
  },
  {
   "cell_type": "markdown",
   "metadata": {
    "colab_type": "text",
    "id": "fnlJgOPi4pGl"
   },
   "source": [
    "We setup the parameters that will be used by our recommender model. Essentially,The dataset has a sampling frequency of  22050 Hz. For the spectro-temporal features we fix a window length of 200ms with a 50% overlapping.\n",
    "\n",
    "The features that we propose to compute in this first instance are the following ones:\n",
    "* MFCC\n",
    "* Tempo\n",
    "* Spectrao contrast\n",
    "\n",
    "Features are extracted in the lines below when the data_train and data_test subsets are generated, so it takes a while to execute them."
   ]
  },
  {
   "cell_type": "code",
   "execution_count": 43,
   "metadata": {
    "colab": {
     "base_uri": "https://localhost:8080/",
     "height": 53
    },
    "colab_type": "code",
    "id": "FQgahyOqiHxJ",
    "outputId": "0c4f5bca-d07b-4dd8-8038-7d9db3ca7a94"
   },
   "outputs": [
    {
     "name": "stdout",
     "output_type": "stream",
     "text": [
      "Creating new scaler (13, 291)\n",
      "Creating new scaler (7, 291)\n"
     ]
    }
   ],
   "source": [
    "# Common parameters\n",
    "sr = 22050;\n",
    "window_length =  int(200e-3*sr); # 100ms -> 100e-3*sr\n",
    "feature_extraction = {}\n",
    "feature_extraction['verbose'] = False;\n",
    "feature_extraction['frame_length'] = window_length;\n",
    "feature_extraction['frame_hop'] = int(window_length/2);\n",
    "feature_extraction['features'] = ['mfcc', 'tempo', 'spectral_contrast'];\n",
    "\n",
    "\n",
    "rand_seed = 1492;\n",
    "\n",
    "# We compute all the features before we group them in vectors.\n",
    "data_train = [(file_train[i], load_signal(file_train[i],feature_extraction)) for i in range(len(file_train))];\n",
    "data_test = [(file_test[i], load_signal(file_test[i],feature_extraction)) for i in range(len(file_test))];\n"
   ]
  },
  {
   "cell_type": "markdown",
   "metadata": {
    "colab_type": "text",
    "id": "TfAuWlvK5bnZ"
   },
   "source": [
    "Once the features are computed for both subsets, we concatenate them into a huge feature vector."
   ]
  },
  {
   "cell_type": "code",
   "execution_count": 60,
   "metadata": {
    "colab": {
     "base_uri": "https://localhost:8080/",
     "height": 35
    },
    "colab_type": "code",
    "id": "Gu_AkrFvx63g",
    "outputId": "3462cb82-b84f-4cc2-e900-2b3298a9f0e5"
   },
   "outputs": [
    {
     "name": "stdout",
     "output_type": "stream",
     "text": [
      "Processing combo: ['tempo', 'spectral_contrast', 'mfcc']\n"
     ]
    }
   ],
   "source": [
    "combos = {\n",
    "          'mf_tem_fcont': ['tempo','spectral_contrast','mfcc'],\n",
    "          }\n",
    "\n",
    "x_train = {}\n",
    "x_test = {}\n",
    "for combo_i in combos.keys():\n",
    "  # We reset the feature_extraction vector every time so the scaler disappears.\n",
    "  print('Processing combo: {0}'.format(combos[combo_i]))\n",
    "  feature_extraction['features'] = combos[combo_i];\n",
    "\n",
    "  # Here, we group the pre-computed features.\n",
    "  for i in data_train:\n",
    "    x_train[i[0]] = concatenate_features(i[1], feature_extraction);\n",
    "  for i in data_test:\n",
    "    x_test[i[0]] = concatenate_features(i[1], feature_extraction);\n"
   ]
  },
  {
   "cell_type": "markdown",
   "metadata": {
    "colab_type": "text",
    "id": "wi1ETxst6FGx"
   },
   "source": [
    "We design a function that obtains the vectorised data from a user, its songs and repetitions, and computes the number of stars for each one of them. In order to do so, we divide the number of repetitions of each song by the maximum repetition value available for such user. Then, we round results so they are within the range [1,5]. These values will represent our classification scores for every specific song. "
   ]
  },
  {
   "cell_type": "code",
   "execution_count": 0,
   "metadata": {
    "colab": {},
    "colab_type": "code",
    "id": "tivYg5rlsuET"
   },
   "outputs": [],
   "source": [
    "# We extract a round score for each song\n",
    "def get_user_data(user_data):\n",
    "    # user_data = user_vector.loc['user']\n",
    "    interaction_matrix_stars = pd.Series(0,index = user_data.index)\n",
    "\n",
    "    song_reps = user_data[user_data> 0];\n",
    "    song_stars = np.round(song_reps/np.max(song_reps)*4)+1;\n",
    "    x_train_user = [x_train[i] for i in song_reps.keys()];\n",
    "    y_train_user = [int(i) for i in song_stars];\n",
    "\n",
    "    interaction_matrix_stars[song_stars.keys()] = song_stars\n",
    "\n",
    "    return x_train_user, y_train_user, interaction_matrix_stars\n",
    "\n"
   ]
  },
  {
   "cell_type": "code",
   "execution_count": 0,
   "metadata": {
    "colab": {},
    "colab_type": "code",
    "id": "TNXfvFjr3gI4"
   },
   "outputs": [],
   "source": [
    "\n"
   ]
  },
  {
   "cell_type": "markdown",
   "metadata": {
    "colab_type": "text",
    "id": "h_ySWco8-UdR"
   },
   "source": [
    "Once we've got both features and stars ranking, from 1 to 5, we can train a classifier. In order to do so, we start with the following assumption:\n",
    "* X -> Auditory features precomputed some lines above for every song.\n",
    "* y -> Number of stars for every song.\n",
    "\n",
    "It is important to notice that, since we have an interaction matrix with a certain number of users (i.e. 100), we will compute a classifier for each of these subjects using a Random Forest classifier. This means that each subject will have its own model computed using the song he/she has listened to, from which features are extracted, and the score for each of these songs is obtained depending on the number of times they have been played.\n",
    "\n",
    "\n",
    "\n"
   ]
  },
  {
   "cell_type": "code",
   "execution_count": 0,
   "metadata": {
    "colab": {},
    "colab_type": "code",
    "id": "PG9sjTnqDEWj"
   },
   "outputs": [],
   "source": [
    "from sklearn.ensemble import RandomForestClassifier\n",
    "\n",
    "clf_list = {}\n",
    "star_list = {}\n",
    "\n",
    "# Interaction matrix\n",
    "for user_id in interaction_matrix.index:\n",
    "    x_train_temp, y_train_temp, interaction_stars = get_user_data(interaction_matrix.loc[user_id]);\n",
    "    clf = RandomForestClassifier(n_estimators = 10)\n",
    "    clf.fit(x_train_temp, y_train_temp)\n",
    "    # We store the trained classifier in a variable to be used later.\n",
    "    clf_list[user_id] = clf;\n",
    "\n",
    "    # With the trained model we predict a star-score for the songs that the subject \n",
    "    # has not listened yet as well as the ones that he/she already knows.\n",
    "    for i in interaction_stars.keys():\n",
    "        if interaction_stars[i] == 0: # New songs.\n",
    "            interaction_stars[i] = clf.predict(np.expand_dims(x_train[i], axis=0));\n",
    "        else: # Known songs.\n",
    "            interaction_stars[i] = interaction_stars[i]\n",
    "\n",
    "    star_list[user_id] = interaction_stars\n",
    "    del interaction_stars\n"
   ]
  },
  {
   "cell_type": "markdown",
   "metadata": {
    "colab_type": "text",
    "id": "yZmoLoYx78_t"
   },
   "source": [
    "Then, we train a model for the student profile we created before. The procedure is the same than for the interaction matrix explained in the previous block of code."
   ]
  },
  {
   "cell_type": "code",
   "execution_count": 79,
   "metadata": {
    "colab": {
     "base_uri": "https://localhost:8080/",
     "height": 161
    },
    "colab_type": "code",
    "id": "41axH59f-XKB",
    "outputId": "f44b4799-4e3d-47ac-8279-2f21ed07b09a"
   },
   "outputs": [
    {
     "name": "stdout",
     "output_type": "stream",
     "text": [
      "Predicted stars for the student profile: \n",
      "Stars - Reps\n",
      "1.0     35\n",
      "2.0    312\n",
      "3.0    303\n",
      "4.0     60\n",
      "5.0      4\n",
      "dtype: int64\n"
     ]
    }
   ],
   "source": [
    "# USER CLASSIFIER\n",
    "x_train_temp, y_train_temp, user_stars = get_user_data(user_vector.loc['user'])\n",
    "\n",
    "clf = RandomForestClassifier(n_estimators = 10)\n",
    "clf.fit(x_train_temp, y_train_temp)\n",
    "\n",
    "user_unknown = pd.Series();\n",
    "for i in user_stars.keys():\n",
    "      if user_stars[i] == 0:\n",
    "        # These are the NEW recommendations from the system.\n",
    "          user_stars[i] = clf.predict(np.expand_dims(x_train[i], axis=0));\n",
    "          user_unknown[i] = user_stars[i]\n",
    "      else:\n",
    "          user_stars[i] = user_stars[i]\n",
    "\n",
    "print('Predicted stars for the student profile: ')\n",
    "print('Stars - Reps')\n",
    "print(user_unknown.value_counts().sort_index())"
   ]
  },
  {
   "cell_type": "markdown",
   "metadata": {
    "colab_type": "text",
    "id": "ELnohJ4P875d"
   },
   "source": [
    "Now, we compare our user predictions against the registers of the interaction matrix. We measure how many of the predicted stars are EXACTLY the same for both lists. Three criteria are defined to measure such differences:\n",
    "* 'difference': measures how many times the star-scores from the student profile are exactly the same to the ones of each of the classifiers.\n",
    "* 'and': measures if the results for student and interaction matrix are the same and above a certain star threshold, i.e. 5-stars. IT ONLY MEASURES TRUES, AND NOT FALSES.\n",
    "* 'xnor': when the scores are True or False for both student and interaction matrix, we have a positive one. IT MEASURES BOTH TRUES AND FALSES.\n",
    "\n",
    "In order to understand the differences between 'and' and 'xnor' it is important to have some knowledge about logic gates. For the example below, we choose 'and'."
   ]
  },
  {
   "cell_type": "code",
   "execution_count": 52,
   "metadata": {
    "colab": {
     "base_uri": "https://localhost:8080/",
     "height": 35
    },
    "colab_type": "code",
    "id": "gSWtYQXv-iP7",
    "outputId": "d2a40465-0171-464c-b123-cdd1896486fb"
   },
   "outputs": [
    {
     "data": {
      "text/plain": [
       "[('79', 26), ('90', 23), ('15', 20)]"
      ]
     },
     "execution_count": 52,
     "metadata": {
      "tags": []
     },
     "output_type": "execute_result"
    }
   ],
   "source": [
    "\n",
    "def xnor(a,b):\n",
    "    return ((a == False)*(b == False)+ (a == True)*(b == True)).sum()\n",
    "\n",
    "def AND(a,b):\n",
    "    return np.sum((a == True)*(b == True))\n",
    "\n",
    "similarity = {}\n",
    "criteria = 'and' # 'difference', 'xnor'\n",
    "\n",
    "star_threshold = 4;\n",
    "for i in star_list.keys():\n",
    "    if criteria == 'difference':\n",
    "        similarity[i] = ((star_list[i]-user_stars) == 0).sum();\n",
    "    elif criteria == 'xnor':\n",
    "        similarity[i] = xnor((star_list[i] >= star_threshold).values, (user_stars >= star_threshold).values)\n",
    "    elif criteria == 'and':\n",
    "        similarity[i] = AND((star_list[i] >= star_threshold).values, (user_stars >= star_threshold).values)\n",
    "    \n",
    "\n",
    "# We sort all the candidates according to their difference score and keep the ones with bigger similarity score.\n",
    "top3 = sorted(similarity.items(), key = lambda kv:(kv[1]), reverse = True)[:3]\n",
    "top3"
   ]
  },
  {
   "cell_type": "markdown",
   "metadata": {
    "colab_type": "text",
    "id": "qfWVkvcs-YTk"
   },
   "source": [
    "We represent both the recomendation of the student model for new music below:"
   ]
  },
  {
   "cell_type": "code",
   "execution_count": 80,
   "metadata": {
    "colab": {
     "base_uri": "https://localhost:8080/",
     "height": 125
    },
    "colab_type": "code",
    "id": "MTr66oFzvNoc",
    "outputId": "5b5f98a0-af51-4086-b1c2-5269f85e7801"
   },
   "outputs": [
    {
     "name": "stdout",
     "output_type": "stream",
     "text": [
      "User model recommendations: \n"
     ]
    },
    {
     "data": {
      "text/plain": [
       "Index(['/content/drive/My Drive/MIR/input/genres/disco/disco.00052.wav',\n",
       "       '/content/drive/My Drive/MIR/input/genres/metal/metal.00067.wav',\n",
       "       '/content/drive/My Drive/MIR/input/genres/disco/disco.00051.wav',\n",
       "       '/content/drive/My Drive/MIR/input/genres/rock/rock.00060.wav'],\n",
       "      dtype='object')"
      ]
     },
     "execution_count": 80,
     "metadata": {
      "tags": []
     },
     "output_type": "execute_result"
    }
   ],
   "source": [
    "print('Student model recommendations: ')\n",
    "user_unknown[user_unknown == 5].index"
   ]
  },
  {
   "cell_type": "markdown",
   "metadata": {
    "colab_type": "text",
    "id": "aM3EeGvl-ese"
   },
   "source": [
    "On the other hand, we also represent the suggestions made by the three interaction matrix users that were closer using the selected criteria. Notice that we plot three random examples everytime, so results might change after each execution of the block of code below."
   ]
  },
  {
   "cell_type": "code",
   "execution_count": 59,
   "metadata": {
    "colab": {
     "base_uri": "https://localhost:8080/",
     "height": 287
    },
    "colab_type": "code",
    "id": "rZyswwHYlgx1",
    "outputId": "1c9dd297-2c4c-4d0b-ca62-b94d64b0faeb"
   },
   "outputs": [
    {
     "name": "stdout",
     "output_type": "stream",
     "text": [
      "USER 79 recommendations:\n",
      "Index(['/content/drive/My Drive/MIR/input/genres/pop/pop.00003.wav',\n",
      "       '/content/drive/My Drive/MIR/input/genres/rock/rock.00033.wav',\n",
      "       '/content/drive/My Drive/MIR/input/genres/rock/rock.00049.wav'],\n",
      "      dtype='object')\n",
      "USER 90 recommendations:\n",
      "Index(['/content/drive/My Drive/MIR/input/genres/hiphop/hiphop.00059.wav',\n",
      "       '/content/drive/My Drive/MIR/input/genres/metal/metal.00002.wav',\n",
      "       '/content/drive/My Drive/MIR/input/genres/rock/rock.00026.wav'],\n",
      "      dtype='object')\n",
      "USER 15 recommendations:\n",
      "Index(['/content/drive/My Drive/MIR/input/genres/rock/rock.00022.wav',\n",
      "       '/content/drive/My Drive/MIR/input/genres/rock/rock.00020.wav',\n",
      "       '/content/drive/My Drive/MIR/input/genres/rock/rock.00058.wav'],\n",
      "      dtype='object')\n"
     ]
    }
   ],
   "source": [
    "for ind in top3:\n",
    "    aux_stars = star_list[ind[0]];\n",
    "    print('USER {} recommendations:'.format(ind[0]))\n",
    "    print(aux_stars[aux_stars == 5].sample(3).index)\n"
   ]
  },
  {
   "cell_type": "markdown",
   "metadata": {
    "colab_type": "text",
    "id": "I8J0aqNl-nW5"
   },
   "source": [
    "Finally, we recall the user definition in order to check out if the predictions made by both student and interaction matrix models make sense."
   ]
  },
  {
   "cell_type": "code",
   "execution_count": 55,
   "metadata": {
    "colab": {
     "base_uri": "https://localhost:8080/",
     "height": 197
    },
    "colab_type": "code",
    "id": "8D4Hs-274Jjr",
    "outputId": "a2574c97-4092-41d9-8225-7803e5158064"
   },
   "outputs": [
    {
     "data": {
      "text/plain": [
       "{'blues': 7,\n",
       " 'classical': 11,\n",
       " 'country': 13,\n",
       " 'disco': 44,\n",
       " 'hiphop': 18,\n",
       " 'jazz': 5,\n",
       " 'metal': 7,\n",
       " 'pop': 40,\n",
       " 'reggae': 19,\n",
       " 'rock': 32}"
      ]
     },
     "execution_count": 55,
     "metadata": {
      "tags": []
     },
     "output_type": "execute_result"
    }
   ],
   "source": [
    "user"
   ]
  }
 ],
 "metadata": {
  "colab": {
   "collapsed_sections": [],
   "name": "Generador_usuarios.ipynb",
   "provenance": []
  },
  "kernelspec": {
   "display_name": "Python 3",
   "language": "python",
   "name": "python3"
  },
  "language_info": {
   "codemirror_mode": {
    "name": "ipython",
    "version": 3
   },
   "file_extension": ".py",
   "mimetype": "text/x-python",
   "name": "python",
   "nbconvert_exporter": "python",
   "pygments_lexer": "ipython3",
   "version": "3.7.6"
  }
 },
 "nbformat": 4,
 "nbformat_minor": 1
}
